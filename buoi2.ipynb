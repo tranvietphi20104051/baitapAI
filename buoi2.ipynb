{
  "nbformat": 4,
  "nbformat_minor": 0,
  "metadata": {
    "colab": {
      "provenance": [],
      "collapsed_sections": [],
      "toc_visible": true,
      "authorship_tag": "ABX9TyM40pg2Q7lstGSGWE+PTW4s",
      "include_colab_link": true
    },
    "kernelspec": {
      "name": "python3",
      "display_name": "Python 3"
    },
    "language_info": {
      "name": "python"
    }
  },
  "cells": [
    {
      "cell_type": "markdown",
      "metadata": {
        "id": "view-in-github",
        "colab_type": "text"
      },
      "source": [
        "<a href=\"https://colab.research.google.com/github/tranvietphi20104051/baitapAI/blob/main/buoi2.ipynb\" target=\"_parent\"><img src=\"https://colab.research.google.com/assets/colab-badge.svg\" alt=\"Open In Colab\"/></a>"
      ]
    },
    {
      "cell_type": "code",
      "execution_count": null,
      "metadata": {
        "id": "Vy8tAKEnkDxY"
      },
      "outputs": [],
      "source": [
        "with open ('text.txt', mode ='w') as accounts:\n",
        "  accounts.write('1 Nguyen Van A 8.0\\n')\n",
        "  accounts.write('2 Le Thi B 6.8\\n')"
      ]
    },
    {
      "cell_type": "code",
      "source": [],
      "metadata": {
        "id": "dOfK_E7Xk98_"
      },
      "execution_count": null,
      "outputs": []
    },
    {
      "cell_type": "code",
      "source": [
        "with open ('text.txt', mode ='w') as accounts:\n",
        "  print ('7:00 Tran Viet Phi', file = accounts)\n",
        "  print ('7:05 Nguyen Quoc Thinh', file = accounts)"
      ],
      "metadata": {
        "id": "ucbbBwZPlqzn"
      },
      "execution_count": null,
      "outputs": []
    },
    {
      "cell_type": "code",
      "source": [
        "with open ('text.txt', mode ='r') as accounts:\n",
        "  print ( f'{'Name' :<20}{'Score' :>20}')\n",
        "  for record in accounts:\n",
        "  name, score =record.split()\n",
        "  print( f'{Name : <20}{score :>20}')"
      ],
      "metadata": {
        "colab": {
          "base_uri": "https://localhost:8080/",
          "height": 130
        },
        "id": "G3k_pRzbnN3y",
        "outputId": "09925e61-61bb-43eb-bb1f-ca792663665b"
      },
      "execution_count": null,
      "outputs": [
        {
          "output_type": "error",
          "ename": "IndentationError",
          "evalue": "ignored",
          "traceback": [
            "\u001b[0;36m  File \u001b[0;32m\"<ipython-input-7-a28eb9863b30>\"\u001b[0;36m, line \u001b[0;32m4\u001b[0m\n\u001b[0;31m    name, score =record.split()\u001b[0m\n\u001b[0m       ^\u001b[0m\n\u001b[0;31mIndentationError\u001b[0m\u001b[0;31m:\u001b[0m expected an indented block\n"
          ]
        }
      ]
    },
    {
      "cell_type": "code",
      "source": [
        "import pandas as pd\n",
        "url = 'test.csv'\n",
        "dataframe = pd.read_csv(url)\n",
        "dataframe.head(9)"
      ],
      "metadata": {
        "colab": {
          "base_uri": "https://localhost:8080/",
          "height": 332
        },
        "id": "1Kmh-QrfroyG",
        "outputId": "33a84654-3ca3-4f52-978e-bb9098956140"
      },
      "execution_count": null,
      "outputs": [
        {
          "output_type": "execute_result",
          "data": {
            "text/plain": [
              "   serial no      MSSV      account no  ?i?m\n",
              "0          1  20104087  Tran Vie?t Phi    10\n",
              "1          2  20104088   Tran Viet Phi     9\n",
              "2          3  20104089   Tran Viet Phi     8\n",
              "3          4  20104090   Tran Viet Phi     7\n",
              "4          5  20104091   Tran Viet Phi     6\n",
              "5          6  20104092   Tran Viet Phi     5\n",
              "6          7  20104093   Tran Viet Phi     4\n",
              "7          8  20104094   Tran Viet Phi     3\n",
              "8          9  20104095   Tran Viet Phi     2"
            ],
            "text/html": [
              "\n",
              "  <div id=\"df-766ccda5-62ed-4eba-bc70-093d88663433\">\n",
              "    <div class=\"colab-df-container\">\n",
              "      <div>\n",
              "<style scoped>\n",
              "    .dataframe tbody tr th:only-of-type {\n",
              "        vertical-align: middle;\n",
              "    }\n",
              "\n",
              "    .dataframe tbody tr th {\n",
              "        vertical-align: top;\n",
              "    }\n",
              "\n",
              "    .dataframe thead th {\n",
              "        text-align: right;\n",
              "    }\n",
              "</style>\n",
              "<table border=\"1\" class=\"dataframe\">\n",
              "  <thead>\n",
              "    <tr style=\"text-align: right;\">\n",
              "      <th></th>\n",
              "      <th>serial no</th>\n",
              "      <th>MSSV</th>\n",
              "      <th>account no</th>\n",
              "      <th>?i?m</th>\n",
              "    </tr>\n",
              "  </thead>\n",
              "  <tbody>\n",
              "    <tr>\n",
              "      <th>0</th>\n",
              "      <td>1</td>\n",
              "      <td>20104087</td>\n",
              "      <td>Tran Vie?t Phi</td>\n",
              "      <td>10</td>\n",
              "    </tr>\n",
              "    <tr>\n",
              "      <th>1</th>\n",
              "      <td>2</td>\n",
              "      <td>20104088</td>\n",
              "      <td>Tran Viet Phi</td>\n",
              "      <td>9</td>\n",
              "    </tr>\n",
              "    <tr>\n",
              "      <th>2</th>\n",
              "      <td>3</td>\n",
              "      <td>20104089</td>\n",
              "      <td>Tran Viet Phi</td>\n",
              "      <td>8</td>\n",
              "    </tr>\n",
              "    <tr>\n",
              "      <th>3</th>\n",
              "      <td>4</td>\n",
              "      <td>20104090</td>\n",
              "      <td>Tran Viet Phi</td>\n",
              "      <td>7</td>\n",
              "    </tr>\n",
              "    <tr>\n",
              "      <th>4</th>\n",
              "      <td>5</td>\n",
              "      <td>20104091</td>\n",
              "      <td>Tran Viet Phi</td>\n",
              "      <td>6</td>\n",
              "    </tr>\n",
              "    <tr>\n",
              "      <th>5</th>\n",
              "      <td>6</td>\n",
              "      <td>20104092</td>\n",
              "      <td>Tran Viet Phi</td>\n",
              "      <td>5</td>\n",
              "    </tr>\n",
              "    <tr>\n",
              "      <th>6</th>\n",
              "      <td>7</td>\n",
              "      <td>20104093</td>\n",
              "      <td>Tran Viet Phi</td>\n",
              "      <td>4</td>\n",
              "    </tr>\n",
              "    <tr>\n",
              "      <th>7</th>\n",
              "      <td>8</td>\n",
              "      <td>20104094</td>\n",
              "      <td>Tran Viet Phi</td>\n",
              "      <td>3</td>\n",
              "    </tr>\n",
              "    <tr>\n",
              "      <th>8</th>\n",
              "      <td>9</td>\n",
              "      <td>20104095</td>\n",
              "      <td>Tran Viet Phi</td>\n",
              "      <td>2</td>\n",
              "    </tr>\n",
              "  </tbody>\n",
              "</table>\n",
              "</div>\n",
              "      <button class=\"colab-df-convert\" onclick=\"convertToInteractive('df-766ccda5-62ed-4eba-bc70-093d88663433')\"\n",
              "              title=\"Convert this dataframe to an interactive table.\"\n",
              "              style=\"display:none;\">\n",
              "        \n",
              "  <svg xmlns=\"http://www.w3.org/2000/svg\" height=\"24px\"viewBox=\"0 0 24 24\"\n",
              "       width=\"24px\">\n",
              "    <path d=\"M0 0h24v24H0V0z\" fill=\"none\"/>\n",
              "    <path d=\"M18.56 5.44l.94 2.06.94-2.06 2.06-.94-2.06-.94-.94-2.06-.94 2.06-2.06.94zm-11 1L8.5 8.5l.94-2.06 2.06-.94-2.06-.94L8.5 2.5l-.94 2.06-2.06.94zm10 10l.94 2.06.94-2.06 2.06-.94-2.06-.94-.94-2.06-.94 2.06-2.06.94z\"/><path d=\"M17.41 7.96l-1.37-1.37c-.4-.4-.92-.59-1.43-.59-.52 0-1.04.2-1.43.59L10.3 9.45l-7.72 7.72c-.78.78-.78 2.05 0 2.83L4 21.41c.39.39.9.59 1.41.59.51 0 1.02-.2 1.41-.59l7.78-7.78 2.81-2.81c.8-.78.8-2.07 0-2.86zM5.41 20L4 18.59l7.72-7.72 1.47 1.35L5.41 20z\"/>\n",
              "  </svg>\n",
              "      </button>\n",
              "      \n",
              "  <style>\n",
              "    .colab-df-container {\n",
              "      display:flex;\n",
              "      flex-wrap:wrap;\n",
              "      gap: 12px;\n",
              "    }\n",
              "\n",
              "    .colab-df-convert {\n",
              "      background-color: #E8F0FE;\n",
              "      border: none;\n",
              "      border-radius: 50%;\n",
              "      cursor: pointer;\n",
              "      display: none;\n",
              "      fill: #1967D2;\n",
              "      height: 32px;\n",
              "      padding: 0 0 0 0;\n",
              "      width: 32px;\n",
              "    }\n",
              "\n",
              "    .colab-df-convert:hover {\n",
              "      background-color: #E2EBFA;\n",
              "      box-shadow: 0px 1px 2px rgba(60, 64, 67, 0.3), 0px 1px 3px 1px rgba(60, 64, 67, 0.15);\n",
              "      fill: #174EA6;\n",
              "    }\n",
              "\n",
              "    [theme=dark] .colab-df-convert {\n",
              "      background-color: #3B4455;\n",
              "      fill: #D2E3FC;\n",
              "    }\n",
              "\n",
              "    [theme=dark] .colab-df-convert:hover {\n",
              "      background-color: #434B5C;\n",
              "      box-shadow: 0px 1px 3px 1px rgba(0, 0, 0, 0.15);\n",
              "      filter: drop-shadow(0px 1px 2px rgba(0, 0, 0, 0.3));\n",
              "      fill: #FFFFFF;\n",
              "    }\n",
              "  </style>\n",
              "\n",
              "      <script>\n",
              "        const buttonEl =\n",
              "          document.querySelector('#df-766ccda5-62ed-4eba-bc70-093d88663433 button.colab-df-convert');\n",
              "        buttonEl.style.display =\n",
              "          google.colab.kernel.accessAllowed ? 'block' : 'none';\n",
              "\n",
              "        async function convertToInteractive(key) {\n",
              "          const element = document.querySelector('#df-766ccda5-62ed-4eba-bc70-093d88663433');\n",
              "          const dataTable =\n",
              "            await google.colab.kernel.invokeFunction('convertToInteractive',\n",
              "                                                     [key], {});\n",
              "          if (!dataTable) return;\n",
              "\n",
              "          const docLinkHtml = 'Like what you see? Visit the ' +\n",
              "            '<a target=\"_blank\" href=https://colab.research.google.com/notebooks/data_table.ipynb>data table notebook</a>'\n",
              "            + ' to learn more about interactive tables.';\n",
              "          element.innerHTML = '';\n",
              "          dataTable['output_type'] = 'display_data';\n",
              "          await google.colab.output.renderOutput(dataTable, element);\n",
              "          const docLink = document.createElement('div');\n",
              "          docLink.innerHTML = docLinkHtml;\n",
              "          element.appendChild(docLink);\n",
              "        }\n",
              "      </script>\n",
              "    </div>\n",
              "  </div>\n",
              "  "
            ]
          },
          "metadata": {},
          "execution_count": 16
        }
      ]
    },
    {
      "cell_type": "code",
      "source": [
        "from pandas.io.formats.style_render import DataFrame\n",
        "import pandas as pd\n",
        "dataframe = pd.DataFrame()\n",
        "dataframe['Name'] = ['Que Anh', ' Thao  Nhi']\n",
        "dataframe['Student ID'] = [20104051,20104052]\n",
        "dataframe['Score'] = [10,1]\n",
        "dataframe['Nguoi yeu cu'] = ['Quoc Thinh', 'Quoc Thinh']\n",
        "dataframe"
      ],
      "metadata": {
        "colab": {
          "base_uri": "https://localhost:8080/",
          "height": 112
        },
        "id": "wlJMaSAHu_gN",
        "outputId": "0abb0be0-725e-4cc0-9326-fb176e3483ce"
      },
      "execution_count": null,
      "outputs": [
        {
          "output_type": "execute_result",
          "data": {
            "text/plain": [
              "         Name  Student ID  Score Nguoi yeu cu\n",
              "0     Que Anh    20104051     10   Quoc Thinh\n",
              "1   Thao  Nhi    20104052      1   Quoc Thinh"
            ],
            "text/html": [
              "\n",
              "  <div id=\"df-67d191f8-6f64-4666-b6ed-596e491c0699\">\n",
              "    <div class=\"colab-df-container\">\n",
              "      <div>\n",
              "<style scoped>\n",
              "    .dataframe tbody tr th:only-of-type {\n",
              "        vertical-align: middle;\n",
              "    }\n",
              "\n",
              "    .dataframe tbody tr th {\n",
              "        vertical-align: top;\n",
              "    }\n",
              "\n",
              "    .dataframe thead th {\n",
              "        text-align: right;\n",
              "    }\n",
              "</style>\n",
              "<table border=\"1\" class=\"dataframe\">\n",
              "  <thead>\n",
              "    <tr style=\"text-align: right;\">\n",
              "      <th></th>\n",
              "      <th>Name</th>\n",
              "      <th>Student ID</th>\n",
              "      <th>Score</th>\n",
              "      <th>Nguoi yeu cu</th>\n",
              "    </tr>\n",
              "  </thead>\n",
              "  <tbody>\n",
              "    <tr>\n",
              "      <th>0</th>\n",
              "      <td>Que Anh</td>\n",
              "      <td>20104051</td>\n",
              "      <td>10</td>\n",
              "      <td>Quoc Thinh</td>\n",
              "    </tr>\n",
              "    <tr>\n",
              "      <th>1</th>\n",
              "      <td>Thao  Nhi</td>\n",
              "      <td>20104052</td>\n",
              "      <td>1</td>\n",
              "      <td>Quoc Thinh</td>\n",
              "    </tr>\n",
              "  </tbody>\n",
              "</table>\n",
              "</div>\n",
              "      <button class=\"colab-df-convert\" onclick=\"convertToInteractive('df-67d191f8-6f64-4666-b6ed-596e491c0699')\"\n",
              "              title=\"Convert this dataframe to an interactive table.\"\n",
              "              style=\"display:none;\">\n",
              "        \n",
              "  <svg xmlns=\"http://www.w3.org/2000/svg\" height=\"24px\"viewBox=\"0 0 24 24\"\n",
              "       width=\"24px\">\n",
              "    <path d=\"M0 0h24v24H0V0z\" fill=\"none\"/>\n",
              "    <path d=\"M18.56 5.44l.94 2.06.94-2.06 2.06-.94-2.06-.94-.94-2.06-.94 2.06-2.06.94zm-11 1L8.5 8.5l.94-2.06 2.06-.94-2.06-.94L8.5 2.5l-.94 2.06-2.06.94zm10 10l.94 2.06.94-2.06 2.06-.94-2.06-.94-.94-2.06-.94 2.06-2.06.94z\"/><path d=\"M17.41 7.96l-1.37-1.37c-.4-.4-.92-.59-1.43-.59-.52 0-1.04.2-1.43.59L10.3 9.45l-7.72 7.72c-.78.78-.78 2.05 0 2.83L4 21.41c.39.39.9.59 1.41.59.51 0 1.02-.2 1.41-.59l7.78-7.78 2.81-2.81c.8-.78.8-2.07 0-2.86zM5.41 20L4 18.59l7.72-7.72 1.47 1.35L5.41 20z\"/>\n",
              "  </svg>\n",
              "      </button>\n",
              "      \n",
              "  <style>\n",
              "    .colab-df-container {\n",
              "      display:flex;\n",
              "      flex-wrap:wrap;\n",
              "      gap: 12px;\n",
              "    }\n",
              "\n",
              "    .colab-df-convert {\n",
              "      background-color: #E8F0FE;\n",
              "      border: none;\n",
              "      border-radius: 50%;\n",
              "      cursor: pointer;\n",
              "      display: none;\n",
              "      fill: #1967D2;\n",
              "      height: 32px;\n",
              "      padding: 0 0 0 0;\n",
              "      width: 32px;\n",
              "    }\n",
              "\n",
              "    .colab-df-convert:hover {\n",
              "      background-color: #E2EBFA;\n",
              "      box-shadow: 0px 1px 2px rgba(60, 64, 67, 0.3), 0px 1px 3px 1px rgba(60, 64, 67, 0.15);\n",
              "      fill: #174EA6;\n",
              "    }\n",
              "\n",
              "    [theme=dark] .colab-df-convert {\n",
              "      background-color: #3B4455;\n",
              "      fill: #D2E3FC;\n",
              "    }\n",
              "\n",
              "    [theme=dark] .colab-df-convert:hover {\n",
              "      background-color: #434B5C;\n",
              "      box-shadow: 0px 1px 3px 1px rgba(0, 0, 0, 0.15);\n",
              "      filter: drop-shadow(0px 1px 2px rgba(0, 0, 0, 0.3));\n",
              "      fill: #FFFFFF;\n",
              "    }\n",
              "  </style>\n",
              "\n",
              "      <script>\n",
              "        const buttonEl =\n",
              "          document.querySelector('#df-67d191f8-6f64-4666-b6ed-596e491c0699 button.colab-df-convert');\n",
              "        buttonEl.style.display =\n",
              "          google.colab.kernel.accessAllowed ? 'block' : 'none';\n",
              "\n",
              "        async function convertToInteractive(key) {\n",
              "          const element = document.querySelector('#df-67d191f8-6f64-4666-b6ed-596e491c0699');\n",
              "          const dataTable =\n",
              "            await google.colab.kernel.invokeFunction('convertToInteractive',\n",
              "                                                     [key], {});\n",
              "          if (!dataTable) return;\n",
              "\n",
              "          const docLinkHtml = 'Like what you see? Visit the ' +\n",
              "            '<a target=\"_blank\" href=https://colab.research.google.com/notebooks/data_table.ipynb>data table notebook</a>'\n",
              "            + ' to learn more about interactive tables.';\n",
              "          element.innerHTML = '';\n",
              "          dataTable['output_type'] = 'display_data';\n",
              "          await google.colab.output.renderOutput(dataTable, element);\n",
              "          const docLink = document.createElement('div');\n",
              "          docLink.innerHTML = docLinkHtml;\n",
              "          element.appendChild(docLink);\n",
              "        }\n",
              "      </script>\n",
              "    </div>\n",
              "  </div>\n",
              "  "
            ]
          },
          "metadata": {},
          "execution_count": 18
        }
      ]
    },
    {
      "cell_type": "code",
      "source": [
        "\n",
        "import pandas as pd\n",
        "url = 'bangdiem.csv'\n",
        "dataframe = pd.read_csv(url)\n",
        "dataframe.head(20)\n",
        "dataframe.iloc[6:8]\n",
        "dataframe[(dataframe['Gioi Tinh'] == 'Nam') & (dataframe['Nam hoc'] >= 2029)]\n",
        "\n"
      ],
      "metadata": {
        "colab": {
          "base_uri": "https://localhost:8080/",
          "height": 614
        },
        "id": "nEoubrQFylMM",
        "outputId": "312cd778-e613-4f53-ea07-24894bb5fc8f"
      },
      "execution_count": null,
      "outputs": [
        {
          "output_type": "execute_result",
          "data": {
            "text/plain": [
              "    MSTT            Ten      MSSV  Nam hoc Khoa Gioi Tinh\n",
              "2      3     Chi Nguyen  20104055     2029  CKM       Nam\n",
              "3      4      Minh Sang  20104054     2030  CKM       Nam\n",
              "4      5      Thanh Hon  20104053     2031  CKM       Nam\n",
              "5      6       Quoc Kha  20104052     2032  CKM       Nam\n",
              "6      7       Quoc Phi  20104051     2033  CKM       Nam\n",
              "7      8      Quoc Sang  20104050     2034  CKM       Nam\n",
              "8      9       Quoc Hon  20104049     2035  CKM       Nam\n",
              "9     10     Viet Thinh  20104048     2036  CKM       Nam\n",
              "10    11      Viet Sang  20104047     2037  CKM       Nam\n",
              "11    12       Viet Hon  20104046     2038  CKM       Nam\n",
              "12    13       Viet Kha  20104045     2039  CKM       Nam\n",
              "13    14     Minh Thinh  20104044     2040  CKM       Nam\n",
              "14    15    Minh Nguyen  20104043     2041  CKM       Nam\n",
              "15    16     Minh Thong  20104042     2042  CKM       Nam\n",
              "16    17        Que Anh  20104041     2043  CKM       Nam\n",
              "17    18       Kha Banh  20104040     2044  CKM       Nam\n",
              "18    19      Quoc Long  20104039     2045  CKM       Nam\n",
              "19    20  Huan Hoa Hong  20104038     2046  CKM       Nam"
            ],
            "text/html": [
              "\n",
              "  <div id=\"df-fa2522c3-3932-4ab4-97fa-a5c2d567b1bb\">\n",
              "    <div class=\"colab-df-container\">\n",
              "      <div>\n",
              "<style scoped>\n",
              "    .dataframe tbody tr th:only-of-type {\n",
              "        vertical-align: middle;\n",
              "    }\n",
              "\n",
              "    .dataframe tbody tr th {\n",
              "        vertical-align: top;\n",
              "    }\n",
              "\n",
              "    .dataframe thead th {\n",
              "        text-align: right;\n",
              "    }\n",
              "</style>\n",
              "<table border=\"1\" class=\"dataframe\">\n",
              "  <thead>\n",
              "    <tr style=\"text-align: right;\">\n",
              "      <th></th>\n",
              "      <th>MSTT</th>\n",
              "      <th>Ten</th>\n",
              "      <th>MSSV</th>\n",
              "      <th>Nam hoc</th>\n",
              "      <th>Khoa</th>\n",
              "      <th>Gioi Tinh</th>\n",
              "    </tr>\n",
              "  </thead>\n",
              "  <tbody>\n",
              "    <tr>\n",
              "      <th>2</th>\n",
              "      <td>3</td>\n",
              "      <td>Chi Nguyen</td>\n",
              "      <td>20104055</td>\n",
              "      <td>2029</td>\n",
              "      <td>CKM</td>\n",
              "      <td>Nam</td>\n",
              "    </tr>\n",
              "    <tr>\n",
              "      <th>3</th>\n",
              "      <td>4</td>\n",
              "      <td>Minh Sang</td>\n",
              "      <td>20104054</td>\n",
              "      <td>2030</td>\n",
              "      <td>CKM</td>\n",
              "      <td>Nam</td>\n",
              "    </tr>\n",
              "    <tr>\n",
              "      <th>4</th>\n",
              "      <td>5</td>\n",
              "      <td>Thanh Hon</td>\n",
              "      <td>20104053</td>\n",
              "      <td>2031</td>\n",
              "      <td>CKM</td>\n",
              "      <td>Nam</td>\n",
              "    </tr>\n",
              "    <tr>\n",
              "      <th>5</th>\n",
              "      <td>6</td>\n",
              "      <td>Quoc Kha</td>\n",
              "      <td>20104052</td>\n",
              "      <td>2032</td>\n",
              "      <td>CKM</td>\n",
              "      <td>Nam</td>\n",
              "    </tr>\n",
              "    <tr>\n",
              "      <th>6</th>\n",
              "      <td>7</td>\n",
              "      <td>Quoc Phi</td>\n",
              "      <td>20104051</td>\n",
              "      <td>2033</td>\n",
              "      <td>CKM</td>\n",
              "      <td>Nam</td>\n",
              "    </tr>\n",
              "    <tr>\n",
              "      <th>7</th>\n",
              "      <td>8</td>\n",
              "      <td>Quoc Sang</td>\n",
              "      <td>20104050</td>\n",
              "      <td>2034</td>\n",
              "      <td>CKM</td>\n",
              "      <td>Nam</td>\n",
              "    </tr>\n",
              "    <tr>\n",
              "      <th>8</th>\n",
              "      <td>9</td>\n",
              "      <td>Quoc Hon</td>\n",
              "      <td>20104049</td>\n",
              "      <td>2035</td>\n",
              "      <td>CKM</td>\n",
              "      <td>Nam</td>\n",
              "    </tr>\n",
              "    <tr>\n",
              "      <th>9</th>\n",
              "      <td>10</td>\n",
              "      <td>Viet Thinh</td>\n",
              "      <td>20104048</td>\n",
              "      <td>2036</td>\n",
              "      <td>CKM</td>\n",
              "      <td>Nam</td>\n",
              "    </tr>\n",
              "    <tr>\n",
              "      <th>10</th>\n",
              "      <td>11</td>\n",
              "      <td>Viet Sang</td>\n",
              "      <td>20104047</td>\n",
              "      <td>2037</td>\n",
              "      <td>CKM</td>\n",
              "      <td>Nam</td>\n",
              "    </tr>\n",
              "    <tr>\n",
              "      <th>11</th>\n",
              "      <td>12</td>\n",
              "      <td>Viet Hon</td>\n",
              "      <td>20104046</td>\n",
              "      <td>2038</td>\n",
              "      <td>CKM</td>\n",
              "      <td>Nam</td>\n",
              "    </tr>\n",
              "    <tr>\n",
              "      <th>12</th>\n",
              "      <td>13</td>\n",
              "      <td>Viet Kha</td>\n",
              "      <td>20104045</td>\n",
              "      <td>2039</td>\n",
              "      <td>CKM</td>\n",
              "      <td>Nam</td>\n",
              "    </tr>\n",
              "    <tr>\n",
              "      <th>13</th>\n",
              "      <td>14</td>\n",
              "      <td>Minh Thinh</td>\n",
              "      <td>20104044</td>\n",
              "      <td>2040</td>\n",
              "      <td>CKM</td>\n",
              "      <td>Nam</td>\n",
              "    </tr>\n",
              "    <tr>\n",
              "      <th>14</th>\n",
              "      <td>15</td>\n",
              "      <td>Minh Nguyen</td>\n",
              "      <td>20104043</td>\n",
              "      <td>2041</td>\n",
              "      <td>CKM</td>\n",
              "      <td>Nam</td>\n",
              "    </tr>\n",
              "    <tr>\n",
              "      <th>15</th>\n",
              "      <td>16</td>\n",
              "      <td>Minh Thong</td>\n",
              "      <td>20104042</td>\n",
              "      <td>2042</td>\n",
              "      <td>CKM</td>\n",
              "      <td>Nam</td>\n",
              "    </tr>\n",
              "    <tr>\n",
              "      <th>16</th>\n",
              "      <td>17</td>\n",
              "      <td>Que Anh</td>\n",
              "      <td>20104041</td>\n",
              "      <td>2043</td>\n",
              "      <td>CKM</td>\n",
              "      <td>Nam</td>\n",
              "    </tr>\n",
              "    <tr>\n",
              "      <th>17</th>\n",
              "      <td>18</td>\n",
              "      <td>Kha Banh</td>\n",
              "      <td>20104040</td>\n",
              "      <td>2044</td>\n",
              "      <td>CKM</td>\n",
              "      <td>Nam</td>\n",
              "    </tr>\n",
              "    <tr>\n",
              "      <th>18</th>\n",
              "      <td>19</td>\n",
              "      <td>Quoc Long</td>\n",
              "      <td>20104039</td>\n",
              "      <td>2045</td>\n",
              "      <td>CKM</td>\n",
              "      <td>Nam</td>\n",
              "    </tr>\n",
              "    <tr>\n",
              "      <th>19</th>\n",
              "      <td>20</td>\n",
              "      <td>Huan Hoa Hong</td>\n",
              "      <td>20104038</td>\n",
              "      <td>2046</td>\n",
              "      <td>CKM</td>\n",
              "      <td>Nam</td>\n",
              "    </tr>\n",
              "  </tbody>\n",
              "</table>\n",
              "</div>\n",
              "      <button class=\"colab-df-convert\" onclick=\"convertToInteractive('df-fa2522c3-3932-4ab4-97fa-a5c2d567b1bb')\"\n",
              "              title=\"Convert this dataframe to an interactive table.\"\n",
              "              style=\"display:none;\">\n",
              "        \n",
              "  <svg xmlns=\"http://www.w3.org/2000/svg\" height=\"24px\"viewBox=\"0 0 24 24\"\n",
              "       width=\"24px\">\n",
              "    <path d=\"M0 0h24v24H0V0z\" fill=\"none\"/>\n",
              "    <path d=\"M18.56 5.44l.94 2.06.94-2.06 2.06-.94-2.06-.94-.94-2.06-.94 2.06-2.06.94zm-11 1L8.5 8.5l.94-2.06 2.06-.94-2.06-.94L8.5 2.5l-.94 2.06-2.06.94zm10 10l.94 2.06.94-2.06 2.06-.94-2.06-.94-.94-2.06-.94 2.06-2.06.94z\"/><path d=\"M17.41 7.96l-1.37-1.37c-.4-.4-.92-.59-1.43-.59-.52 0-1.04.2-1.43.59L10.3 9.45l-7.72 7.72c-.78.78-.78 2.05 0 2.83L4 21.41c.39.39.9.59 1.41.59.51 0 1.02-.2 1.41-.59l7.78-7.78 2.81-2.81c.8-.78.8-2.07 0-2.86zM5.41 20L4 18.59l7.72-7.72 1.47 1.35L5.41 20z\"/>\n",
              "  </svg>\n",
              "      </button>\n",
              "      \n",
              "  <style>\n",
              "    .colab-df-container {\n",
              "      display:flex;\n",
              "      flex-wrap:wrap;\n",
              "      gap: 12px;\n",
              "    }\n",
              "\n",
              "    .colab-df-convert {\n",
              "      background-color: #E8F0FE;\n",
              "      border: none;\n",
              "      border-radius: 50%;\n",
              "      cursor: pointer;\n",
              "      display: none;\n",
              "      fill: #1967D2;\n",
              "      height: 32px;\n",
              "      padding: 0 0 0 0;\n",
              "      width: 32px;\n",
              "    }\n",
              "\n",
              "    .colab-df-convert:hover {\n",
              "      background-color: #E2EBFA;\n",
              "      box-shadow: 0px 1px 2px rgba(60, 64, 67, 0.3), 0px 1px 3px 1px rgba(60, 64, 67, 0.15);\n",
              "      fill: #174EA6;\n",
              "    }\n",
              "\n",
              "    [theme=dark] .colab-df-convert {\n",
              "      background-color: #3B4455;\n",
              "      fill: #D2E3FC;\n",
              "    }\n",
              "\n",
              "    [theme=dark] .colab-df-convert:hover {\n",
              "      background-color: #434B5C;\n",
              "      box-shadow: 0px 1px 3px 1px rgba(0, 0, 0, 0.15);\n",
              "      filter: drop-shadow(0px 1px 2px rgba(0, 0, 0, 0.3));\n",
              "      fill: #FFFFFF;\n",
              "    }\n",
              "  </style>\n",
              "\n",
              "      <script>\n",
              "        const buttonEl =\n",
              "          document.querySelector('#df-fa2522c3-3932-4ab4-97fa-a5c2d567b1bb button.colab-df-convert');\n",
              "        buttonEl.style.display =\n",
              "          google.colab.kernel.accessAllowed ? 'block' : 'none';\n",
              "\n",
              "        async function convertToInteractive(key) {\n",
              "          const element = document.querySelector('#df-fa2522c3-3932-4ab4-97fa-a5c2d567b1bb');\n",
              "          const dataTable =\n",
              "            await google.colab.kernel.invokeFunction('convertToInteractive',\n",
              "                                                     [key], {});\n",
              "          if (!dataTable) return;\n",
              "\n",
              "          const docLinkHtml = 'Like what you see? Visit the ' +\n",
              "            '<a target=\"_blank\" href=https://colab.research.google.com/notebooks/data_table.ipynb>data table notebook</a>'\n",
              "            + ' to learn more about interactive tables.';\n",
              "          element.innerHTML = '';\n",
              "          dataTable['output_type'] = 'display_data';\n",
              "          await google.colab.output.renderOutput(dataTable, element);\n",
              "          const docLink = document.createElement('div');\n",
              "          docLink.innerHTML = docLinkHtml;\n",
              "          element.appendChild(docLink);\n",
              "        }\n",
              "      </script>\n",
              "    </div>\n",
              "  </div>\n",
              "  "
            ]
          },
          "metadata": {},
          "execution_count": 38
        }
      ]
    },
    {
      "cell_type": "code",
      "source": [
        "import pandas as pd\n",
        "url = 'bangdiem.csv'\n",
        "dataframe = pd.read_csv(url)\n",
        "dataframe.drop('Gioi Tinh', axis =1).head(9)"
      ],
      "metadata": {
        "colab": {
          "base_uri": "https://localhost:8080/",
          "height": 332
        },
        "id": "PCTeKswd7BY4",
        "outputId": "84b2c785-8a35-4fd3-f0ae-69f17ab5bb93"
      },
      "execution_count": null,
      "outputs": [
        {
          "output_type": "execute_result",
          "data": {
            "text/plain": [
              "   MSTT         Ten      MSSV  Nam hoc Khoa\n",
              "0     1  Quoc Thinh  20104057     2027  CKM\n",
              "1     2    Vi?t Phi  20104056     2028  CKM\n",
              "2     3  Chi Nguyen  20104055     2029  CKM\n",
              "3     4   Minh Sang  20104054     2030  CKM\n",
              "4     5   Thanh Hon  20104053     2031  CKM\n",
              "5     6    Quoc Kha  20104052     2032  CKM\n",
              "6     7    Quoc Phi  20104051     2033  CKM\n",
              "7     8   Quoc Sang  20104050     2034  CKM\n",
              "8     9    Quoc Hon  20104049     2035  CKM"
            ],
            "text/html": [
              "\n",
              "  <div id=\"df-b1adf4c2-5462-4797-9d75-19de378f6ab5\">\n",
              "    <div class=\"colab-df-container\">\n",
              "      <div>\n",
              "<style scoped>\n",
              "    .dataframe tbody tr th:only-of-type {\n",
              "        vertical-align: middle;\n",
              "    }\n",
              "\n",
              "    .dataframe tbody tr th {\n",
              "        vertical-align: top;\n",
              "    }\n",
              "\n",
              "    .dataframe thead th {\n",
              "        text-align: right;\n",
              "    }\n",
              "</style>\n",
              "<table border=\"1\" class=\"dataframe\">\n",
              "  <thead>\n",
              "    <tr style=\"text-align: right;\">\n",
              "      <th></th>\n",
              "      <th>MSTT</th>\n",
              "      <th>Ten</th>\n",
              "      <th>MSSV</th>\n",
              "      <th>Nam hoc</th>\n",
              "      <th>Khoa</th>\n",
              "    </tr>\n",
              "  </thead>\n",
              "  <tbody>\n",
              "    <tr>\n",
              "      <th>0</th>\n",
              "      <td>1</td>\n",
              "      <td>Quoc Thinh</td>\n",
              "      <td>20104057</td>\n",
              "      <td>2027</td>\n",
              "      <td>CKM</td>\n",
              "    </tr>\n",
              "    <tr>\n",
              "      <th>1</th>\n",
              "      <td>2</td>\n",
              "      <td>Vi?t Phi</td>\n",
              "      <td>20104056</td>\n",
              "      <td>2028</td>\n",
              "      <td>CKM</td>\n",
              "    </tr>\n",
              "    <tr>\n",
              "      <th>2</th>\n",
              "      <td>3</td>\n",
              "      <td>Chi Nguyen</td>\n",
              "      <td>20104055</td>\n",
              "      <td>2029</td>\n",
              "      <td>CKM</td>\n",
              "    </tr>\n",
              "    <tr>\n",
              "      <th>3</th>\n",
              "      <td>4</td>\n",
              "      <td>Minh Sang</td>\n",
              "      <td>20104054</td>\n",
              "      <td>2030</td>\n",
              "      <td>CKM</td>\n",
              "    </tr>\n",
              "    <tr>\n",
              "      <th>4</th>\n",
              "      <td>5</td>\n",
              "      <td>Thanh Hon</td>\n",
              "      <td>20104053</td>\n",
              "      <td>2031</td>\n",
              "      <td>CKM</td>\n",
              "    </tr>\n",
              "    <tr>\n",
              "      <th>5</th>\n",
              "      <td>6</td>\n",
              "      <td>Quoc Kha</td>\n",
              "      <td>20104052</td>\n",
              "      <td>2032</td>\n",
              "      <td>CKM</td>\n",
              "    </tr>\n",
              "    <tr>\n",
              "      <th>6</th>\n",
              "      <td>7</td>\n",
              "      <td>Quoc Phi</td>\n",
              "      <td>20104051</td>\n",
              "      <td>2033</td>\n",
              "      <td>CKM</td>\n",
              "    </tr>\n",
              "    <tr>\n",
              "      <th>7</th>\n",
              "      <td>8</td>\n",
              "      <td>Quoc Sang</td>\n",
              "      <td>20104050</td>\n",
              "      <td>2034</td>\n",
              "      <td>CKM</td>\n",
              "    </tr>\n",
              "    <tr>\n",
              "      <th>8</th>\n",
              "      <td>9</td>\n",
              "      <td>Quoc Hon</td>\n",
              "      <td>20104049</td>\n",
              "      <td>2035</td>\n",
              "      <td>CKM</td>\n",
              "    </tr>\n",
              "  </tbody>\n",
              "</table>\n",
              "</div>\n",
              "      <button class=\"colab-df-convert\" onclick=\"convertToInteractive('df-b1adf4c2-5462-4797-9d75-19de378f6ab5')\"\n",
              "              title=\"Convert this dataframe to an interactive table.\"\n",
              "              style=\"display:none;\">\n",
              "        \n",
              "  <svg xmlns=\"http://www.w3.org/2000/svg\" height=\"24px\"viewBox=\"0 0 24 24\"\n",
              "       width=\"24px\">\n",
              "    <path d=\"M0 0h24v24H0V0z\" fill=\"none\"/>\n",
              "    <path d=\"M18.56 5.44l.94 2.06.94-2.06 2.06-.94-2.06-.94-.94-2.06-.94 2.06-2.06.94zm-11 1L8.5 8.5l.94-2.06 2.06-.94-2.06-.94L8.5 2.5l-.94 2.06-2.06.94zm10 10l.94 2.06.94-2.06 2.06-.94-2.06-.94-.94-2.06-.94 2.06-2.06.94z\"/><path d=\"M17.41 7.96l-1.37-1.37c-.4-.4-.92-.59-1.43-.59-.52 0-1.04.2-1.43.59L10.3 9.45l-7.72 7.72c-.78.78-.78 2.05 0 2.83L4 21.41c.39.39.9.59 1.41.59.51 0 1.02-.2 1.41-.59l7.78-7.78 2.81-2.81c.8-.78.8-2.07 0-2.86zM5.41 20L4 18.59l7.72-7.72 1.47 1.35L5.41 20z\"/>\n",
              "  </svg>\n",
              "      </button>\n",
              "      \n",
              "  <style>\n",
              "    .colab-df-container {\n",
              "      display:flex;\n",
              "      flex-wrap:wrap;\n",
              "      gap: 12px;\n",
              "    }\n",
              "\n",
              "    .colab-df-convert {\n",
              "      background-color: #E8F0FE;\n",
              "      border: none;\n",
              "      border-radius: 50%;\n",
              "      cursor: pointer;\n",
              "      display: none;\n",
              "      fill: #1967D2;\n",
              "      height: 32px;\n",
              "      padding: 0 0 0 0;\n",
              "      width: 32px;\n",
              "    }\n",
              "\n",
              "    .colab-df-convert:hover {\n",
              "      background-color: #E2EBFA;\n",
              "      box-shadow: 0px 1px 2px rgba(60, 64, 67, 0.3), 0px 1px 3px 1px rgba(60, 64, 67, 0.15);\n",
              "      fill: #174EA6;\n",
              "    }\n",
              "\n",
              "    [theme=dark] .colab-df-convert {\n",
              "      background-color: #3B4455;\n",
              "      fill: #D2E3FC;\n",
              "    }\n",
              "\n",
              "    [theme=dark] .colab-df-convert:hover {\n",
              "      background-color: #434B5C;\n",
              "      box-shadow: 0px 1px 3px 1px rgba(0, 0, 0, 0.15);\n",
              "      filter: drop-shadow(0px 1px 2px rgba(0, 0, 0, 0.3));\n",
              "      fill: #FFFFFF;\n",
              "    }\n",
              "  </style>\n",
              "\n",
              "      <script>\n",
              "        const buttonEl =\n",
              "          document.querySelector('#df-b1adf4c2-5462-4797-9d75-19de378f6ab5 button.colab-df-convert');\n",
              "        buttonEl.style.display =\n",
              "          google.colab.kernel.accessAllowed ? 'block' : 'none';\n",
              "\n",
              "        async function convertToInteractive(key) {\n",
              "          const element = document.querySelector('#df-b1adf4c2-5462-4797-9d75-19de378f6ab5');\n",
              "          const dataTable =\n",
              "            await google.colab.kernel.invokeFunction('convertToInteractive',\n",
              "                                                     [key], {});\n",
              "          if (!dataTable) return;\n",
              "\n",
              "          const docLinkHtml = 'Like what you see? Visit the ' +\n",
              "            '<a target=\"_blank\" href=https://colab.research.google.com/notebooks/data_table.ipynb>data table notebook</a>'\n",
              "            + ' to learn more about interactive tables.';\n",
              "          element.innerHTML = '';\n",
              "          dataTable['output_type'] = 'display_data';\n",
              "          await google.colab.output.renderOutput(dataTable, element);\n",
              "          const docLink = document.createElement('div');\n",
              "          docLink.innerHTML = docLinkHtml;\n",
              "          element.appendChild(docLink);\n",
              "        }\n",
              "      </script>\n",
              "    </div>\n",
              "  </div>\n",
              "  "
            ]
          },
          "metadata": {},
          "execution_count": 39
        }
      ]
    },
    {
      "cell_type": "code",
      "source": [
        "import pandas as pd\n",
        "url = 'bangdiem.csv'\n",
        "dataframe = pd.read_csv(url)\n",
        "dataframe.groupby('Ten').mean()"
      ],
      "metadata": {
        "colab": {
          "base_uri": "https://localhost:8080/",
          "height": 708
        },
        "id": "Sfz5MoCT7-fL",
        "outputId": "0d2ed9ae-1af5-4b00-a6d4-ba47f262a544"
      },
      "execution_count": null,
      "outputs": [
        {
          "output_type": "execute_result",
          "data": {
            "text/plain": [
              "               MSTT        MSSV  Nam hoc\n",
              "Ten                                     \n",
              "Chi Nguyen      3.0  20104055.0   2029.0\n",
              "Huan Hoa Hong  20.0  20104038.0   2046.0\n",
              "Kha Banh       18.0  20104040.0   2044.0\n",
              "Minh Nguyen    15.0  20104043.0   2041.0\n",
              "Minh Sang       4.0  20104054.0   2030.0\n",
              "Minh Thinh     14.0  20104044.0   2040.0\n",
              "Minh Thong     16.0  20104042.0   2042.0\n",
              "Que Anh        17.0  20104041.0   2043.0\n",
              "Quoc Hon        9.0  20104049.0   2035.0\n",
              "Quoc Kha        6.0  20104052.0   2032.0\n",
              "Quoc Long      19.0  20104039.0   2045.0\n",
              "Quoc Phi        7.0  20104051.0   2033.0\n",
              "Quoc Sang       8.0  20104050.0   2034.0\n",
              "Quoc Thinh      1.0  20104057.0   2027.0\n",
              "Thanh Hon       5.0  20104053.0   2031.0\n",
              "Vi?t Phi        2.0  20104056.0   2028.0\n",
              "Viet Hon       12.0  20104046.0   2038.0\n",
              "Viet Kha       13.0  20104045.0   2039.0\n",
              "Viet Sang      11.0  20104047.0   2037.0\n",
              "Viet Thinh     10.0  20104048.0   2036.0"
            ],
            "text/html": [
              "\n",
              "  <div id=\"df-57880298-0153-486e-9b39-3270ce368bfa\">\n",
              "    <div class=\"colab-df-container\">\n",
              "      <div>\n",
              "<style scoped>\n",
              "    .dataframe tbody tr th:only-of-type {\n",
              "        vertical-align: middle;\n",
              "    }\n",
              "\n",
              "    .dataframe tbody tr th {\n",
              "        vertical-align: top;\n",
              "    }\n",
              "\n",
              "    .dataframe thead th {\n",
              "        text-align: right;\n",
              "    }\n",
              "</style>\n",
              "<table border=\"1\" class=\"dataframe\">\n",
              "  <thead>\n",
              "    <tr style=\"text-align: right;\">\n",
              "      <th></th>\n",
              "      <th>MSTT</th>\n",
              "      <th>MSSV</th>\n",
              "      <th>Nam hoc</th>\n",
              "    </tr>\n",
              "    <tr>\n",
              "      <th>Ten</th>\n",
              "      <th></th>\n",
              "      <th></th>\n",
              "      <th></th>\n",
              "    </tr>\n",
              "  </thead>\n",
              "  <tbody>\n",
              "    <tr>\n",
              "      <th>Chi Nguyen</th>\n",
              "      <td>3.0</td>\n",
              "      <td>20104055.0</td>\n",
              "      <td>2029.0</td>\n",
              "    </tr>\n",
              "    <tr>\n",
              "      <th>Huan Hoa Hong</th>\n",
              "      <td>20.0</td>\n",
              "      <td>20104038.0</td>\n",
              "      <td>2046.0</td>\n",
              "    </tr>\n",
              "    <tr>\n",
              "      <th>Kha Banh</th>\n",
              "      <td>18.0</td>\n",
              "      <td>20104040.0</td>\n",
              "      <td>2044.0</td>\n",
              "    </tr>\n",
              "    <tr>\n",
              "      <th>Minh Nguyen</th>\n",
              "      <td>15.0</td>\n",
              "      <td>20104043.0</td>\n",
              "      <td>2041.0</td>\n",
              "    </tr>\n",
              "    <tr>\n",
              "      <th>Minh Sang</th>\n",
              "      <td>4.0</td>\n",
              "      <td>20104054.0</td>\n",
              "      <td>2030.0</td>\n",
              "    </tr>\n",
              "    <tr>\n",
              "      <th>Minh Thinh</th>\n",
              "      <td>14.0</td>\n",
              "      <td>20104044.0</td>\n",
              "      <td>2040.0</td>\n",
              "    </tr>\n",
              "    <tr>\n",
              "      <th>Minh Thong</th>\n",
              "      <td>16.0</td>\n",
              "      <td>20104042.0</td>\n",
              "      <td>2042.0</td>\n",
              "    </tr>\n",
              "    <tr>\n",
              "      <th>Que Anh</th>\n",
              "      <td>17.0</td>\n",
              "      <td>20104041.0</td>\n",
              "      <td>2043.0</td>\n",
              "    </tr>\n",
              "    <tr>\n",
              "      <th>Quoc Hon</th>\n",
              "      <td>9.0</td>\n",
              "      <td>20104049.0</td>\n",
              "      <td>2035.0</td>\n",
              "    </tr>\n",
              "    <tr>\n",
              "      <th>Quoc Kha</th>\n",
              "      <td>6.0</td>\n",
              "      <td>20104052.0</td>\n",
              "      <td>2032.0</td>\n",
              "    </tr>\n",
              "    <tr>\n",
              "      <th>Quoc Long</th>\n",
              "      <td>19.0</td>\n",
              "      <td>20104039.0</td>\n",
              "      <td>2045.0</td>\n",
              "    </tr>\n",
              "    <tr>\n",
              "      <th>Quoc Phi</th>\n",
              "      <td>7.0</td>\n",
              "      <td>20104051.0</td>\n",
              "      <td>2033.0</td>\n",
              "    </tr>\n",
              "    <tr>\n",
              "      <th>Quoc Sang</th>\n",
              "      <td>8.0</td>\n",
              "      <td>20104050.0</td>\n",
              "      <td>2034.0</td>\n",
              "    </tr>\n",
              "    <tr>\n",
              "      <th>Quoc Thinh</th>\n",
              "      <td>1.0</td>\n",
              "      <td>20104057.0</td>\n",
              "      <td>2027.0</td>\n",
              "    </tr>\n",
              "    <tr>\n",
              "      <th>Thanh Hon</th>\n",
              "      <td>5.0</td>\n",
              "      <td>20104053.0</td>\n",
              "      <td>2031.0</td>\n",
              "    </tr>\n",
              "    <tr>\n",
              "      <th>Vi?t Phi</th>\n",
              "      <td>2.0</td>\n",
              "      <td>20104056.0</td>\n",
              "      <td>2028.0</td>\n",
              "    </tr>\n",
              "    <tr>\n",
              "      <th>Viet Hon</th>\n",
              "      <td>12.0</td>\n",
              "      <td>20104046.0</td>\n",
              "      <td>2038.0</td>\n",
              "    </tr>\n",
              "    <tr>\n",
              "      <th>Viet Kha</th>\n",
              "      <td>13.0</td>\n",
              "      <td>20104045.0</td>\n",
              "      <td>2039.0</td>\n",
              "    </tr>\n",
              "    <tr>\n",
              "      <th>Viet Sang</th>\n",
              "      <td>11.0</td>\n",
              "      <td>20104047.0</td>\n",
              "      <td>2037.0</td>\n",
              "    </tr>\n",
              "    <tr>\n",
              "      <th>Viet Thinh</th>\n",
              "      <td>10.0</td>\n",
              "      <td>20104048.0</td>\n",
              "      <td>2036.0</td>\n",
              "    </tr>\n",
              "  </tbody>\n",
              "</table>\n",
              "</div>\n",
              "      <button class=\"colab-df-convert\" onclick=\"convertToInteractive('df-57880298-0153-486e-9b39-3270ce368bfa')\"\n",
              "              title=\"Convert this dataframe to an interactive table.\"\n",
              "              style=\"display:none;\">\n",
              "        \n",
              "  <svg xmlns=\"http://www.w3.org/2000/svg\" height=\"24px\"viewBox=\"0 0 24 24\"\n",
              "       width=\"24px\">\n",
              "    <path d=\"M0 0h24v24H0V0z\" fill=\"none\"/>\n",
              "    <path d=\"M18.56 5.44l.94 2.06.94-2.06 2.06-.94-2.06-.94-.94-2.06-.94 2.06-2.06.94zm-11 1L8.5 8.5l.94-2.06 2.06-.94-2.06-.94L8.5 2.5l-.94 2.06-2.06.94zm10 10l.94 2.06.94-2.06 2.06-.94-2.06-.94-.94-2.06-.94 2.06-2.06.94z\"/><path d=\"M17.41 7.96l-1.37-1.37c-.4-.4-.92-.59-1.43-.59-.52 0-1.04.2-1.43.59L10.3 9.45l-7.72 7.72c-.78.78-.78 2.05 0 2.83L4 21.41c.39.39.9.59 1.41.59.51 0 1.02-.2 1.41-.59l7.78-7.78 2.81-2.81c.8-.78.8-2.07 0-2.86zM5.41 20L4 18.59l7.72-7.72 1.47 1.35L5.41 20z\"/>\n",
              "  </svg>\n",
              "      </button>\n",
              "      \n",
              "  <style>\n",
              "    .colab-df-container {\n",
              "      display:flex;\n",
              "      flex-wrap:wrap;\n",
              "      gap: 12px;\n",
              "    }\n",
              "\n",
              "    .colab-df-convert {\n",
              "      background-color: #E8F0FE;\n",
              "      border: none;\n",
              "      border-radius: 50%;\n",
              "      cursor: pointer;\n",
              "      display: none;\n",
              "      fill: #1967D2;\n",
              "      height: 32px;\n",
              "      padding: 0 0 0 0;\n",
              "      width: 32px;\n",
              "    }\n",
              "\n",
              "    .colab-df-convert:hover {\n",
              "      background-color: #E2EBFA;\n",
              "      box-shadow: 0px 1px 2px rgba(60, 64, 67, 0.3), 0px 1px 3px 1px rgba(60, 64, 67, 0.15);\n",
              "      fill: #174EA6;\n",
              "    }\n",
              "\n",
              "    [theme=dark] .colab-df-convert {\n",
              "      background-color: #3B4455;\n",
              "      fill: #D2E3FC;\n",
              "    }\n",
              "\n",
              "    [theme=dark] .colab-df-convert:hover {\n",
              "      background-color: #434B5C;\n",
              "      box-shadow: 0px 1px 3px 1px rgba(0, 0, 0, 0.15);\n",
              "      filter: drop-shadow(0px 1px 2px rgba(0, 0, 0, 0.3));\n",
              "      fill: #FFFFFF;\n",
              "    }\n",
              "  </style>\n",
              "\n",
              "      <script>\n",
              "        const buttonEl =\n",
              "          document.querySelector('#df-57880298-0153-486e-9b39-3270ce368bfa button.colab-df-convert');\n",
              "        buttonEl.style.display =\n",
              "          google.colab.kernel.accessAllowed ? 'block' : 'none';\n",
              "\n",
              "        async function convertToInteractive(key) {\n",
              "          const element = document.querySelector('#df-57880298-0153-486e-9b39-3270ce368bfa');\n",
              "          const dataTable =\n",
              "            await google.colab.kernel.invokeFunction('convertToInteractive',\n",
              "                                                     [key], {});\n",
              "          if (!dataTable) return;\n",
              "\n",
              "          const docLinkHtml = 'Like what you see? Visit the ' +\n",
              "            '<a target=\"_blank\" href=https://colab.research.google.com/notebooks/data_table.ipynb>data table notebook</a>'\n",
              "            + ' to learn more about interactive tables.';\n",
              "          element.innerHTML = '';\n",
              "          dataTable['output_type'] = 'display_data';\n",
              "          await google.colab.output.renderOutput(dataTable, element);\n",
              "          const docLink = document.createElement('div');\n",
              "          docLink.innerHTML = docLinkHtml;\n",
              "          element.appendChild(docLink);\n",
              "        }\n",
              "      </script>\n",
              "    </div>\n",
              "  </div>\n",
              "  "
            ]
          },
          "metadata": {},
          "execution_count": 41
        }
      ]
    },
    {
      "cell_type": "code",
      "source": [
        "import pandas as pd\n",
        "url = 'http://winterolympicsmedals.com/medals.csv'\n",
        "data = pd.read_csv(url)\n",
        "data[(data['Medal'] == 'Silver') & (data['NOC'] == 'USA') & (data['Year']== 2006)]\n",
        "\n"
      ],
      "metadata": {
        "colab": {
          "base_uri": "https://localhost:8080/",
          "height": 376
        },
        "id": "J4LhBEqZ9kxf",
        "outputId": "d8b3e605-ce8d-4e96-a433-d1edde7b2fe8"
      },
      "execution_count": null,
      "outputs": [
        {
          "output_type": "execute_result",
          "data": {
            "text/plain": [
              "      Year   City      Sport      Discipline  NOC            Event  \\\n",
              "2286  2006  Turin  Bobsleigh       Bobsleigh  USA          two-man   \n",
              "2289  2006  Turin    Skating  Figure skating  USA      ice dancing   \n",
              "2290  2006  Turin    Skating  Figure skating  USA       individual   \n",
              "2294  2006  Turin    Skating   Speed skating  USA           10000m   \n",
              "2296  2006  Turin    Skating   Speed skating  USA            1000m   \n",
              "2298  2006  Turin    Skating   Speed skating  USA            1500m   \n",
              "2306  2006  Turin     Skiing       Snowboard  USA        Half-pipe   \n",
              "2308  2006  Turin     Skiing       Snowboard  USA        Half-pipe   \n",
              "2310  2006  Turin     Skiing       Snowboard  USA  Snowboard Cross   \n",
              "\n",
              "     Event gender   Medal  \n",
              "2286            W  Silver  \n",
              "2289            X  Silver  \n",
              "2290            W  Silver  \n",
              "2294            M  Silver  \n",
              "2296            M  Silver  \n",
              "2298            M  Silver  \n",
              "2306            M  Silver  \n",
              "2308            W  Silver  \n",
              "2310            W  Silver  "
            ],
            "text/html": [
              "\n",
              "  <div id=\"df-c14e9f63-0741-4afb-b84b-9c3ed739815c\">\n",
              "    <div class=\"colab-df-container\">\n",
              "      <div>\n",
              "<style scoped>\n",
              "    .dataframe tbody tr th:only-of-type {\n",
              "        vertical-align: middle;\n",
              "    }\n",
              "\n",
              "    .dataframe tbody tr th {\n",
              "        vertical-align: top;\n",
              "    }\n",
              "\n",
              "    .dataframe thead th {\n",
              "        text-align: right;\n",
              "    }\n",
              "</style>\n",
              "<table border=\"1\" class=\"dataframe\">\n",
              "  <thead>\n",
              "    <tr style=\"text-align: right;\">\n",
              "      <th></th>\n",
              "      <th>Year</th>\n",
              "      <th>City</th>\n",
              "      <th>Sport</th>\n",
              "      <th>Discipline</th>\n",
              "      <th>NOC</th>\n",
              "      <th>Event</th>\n",
              "      <th>Event gender</th>\n",
              "      <th>Medal</th>\n",
              "    </tr>\n",
              "  </thead>\n",
              "  <tbody>\n",
              "    <tr>\n",
              "      <th>2286</th>\n",
              "      <td>2006</td>\n",
              "      <td>Turin</td>\n",
              "      <td>Bobsleigh</td>\n",
              "      <td>Bobsleigh</td>\n",
              "      <td>USA</td>\n",
              "      <td>two-man</td>\n",
              "      <td>W</td>\n",
              "      <td>Silver</td>\n",
              "    </tr>\n",
              "    <tr>\n",
              "      <th>2289</th>\n",
              "      <td>2006</td>\n",
              "      <td>Turin</td>\n",
              "      <td>Skating</td>\n",
              "      <td>Figure skating</td>\n",
              "      <td>USA</td>\n",
              "      <td>ice dancing</td>\n",
              "      <td>X</td>\n",
              "      <td>Silver</td>\n",
              "    </tr>\n",
              "    <tr>\n",
              "      <th>2290</th>\n",
              "      <td>2006</td>\n",
              "      <td>Turin</td>\n",
              "      <td>Skating</td>\n",
              "      <td>Figure skating</td>\n",
              "      <td>USA</td>\n",
              "      <td>individual</td>\n",
              "      <td>W</td>\n",
              "      <td>Silver</td>\n",
              "    </tr>\n",
              "    <tr>\n",
              "      <th>2294</th>\n",
              "      <td>2006</td>\n",
              "      <td>Turin</td>\n",
              "      <td>Skating</td>\n",
              "      <td>Speed skating</td>\n",
              "      <td>USA</td>\n",
              "      <td>10000m</td>\n",
              "      <td>M</td>\n",
              "      <td>Silver</td>\n",
              "    </tr>\n",
              "    <tr>\n",
              "      <th>2296</th>\n",
              "      <td>2006</td>\n",
              "      <td>Turin</td>\n",
              "      <td>Skating</td>\n",
              "      <td>Speed skating</td>\n",
              "      <td>USA</td>\n",
              "      <td>1000m</td>\n",
              "      <td>M</td>\n",
              "      <td>Silver</td>\n",
              "    </tr>\n",
              "    <tr>\n",
              "      <th>2298</th>\n",
              "      <td>2006</td>\n",
              "      <td>Turin</td>\n",
              "      <td>Skating</td>\n",
              "      <td>Speed skating</td>\n",
              "      <td>USA</td>\n",
              "      <td>1500m</td>\n",
              "      <td>M</td>\n",
              "      <td>Silver</td>\n",
              "    </tr>\n",
              "    <tr>\n",
              "      <th>2306</th>\n",
              "      <td>2006</td>\n",
              "      <td>Turin</td>\n",
              "      <td>Skiing</td>\n",
              "      <td>Snowboard</td>\n",
              "      <td>USA</td>\n",
              "      <td>Half-pipe</td>\n",
              "      <td>M</td>\n",
              "      <td>Silver</td>\n",
              "    </tr>\n",
              "    <tr>\n",
              "      <th>2308</th>\n",
              "      <td>2006</td>\n",
              "      <td>Turin</td>\n",
              "      <td>Skiing</td>\n",
              "      <td>Snowboard</td>\n",
              "      <td>USA</td>\n",
              "      <td>Half-pipe</td>\n",
              "      <td>W</td>\n",
              "      <td>Silver</td>\n",
              "    </tr>\n",
              "    <tr>\n",
              "      <th>2310</th>\n",
              "      <td>2006</td>\n",
              "      <td>Turin</td>\n",
              "      <td>Skiing</td>\n",
              "      <td>Snowboard</td>\n",
              "      <td>USA</td>\n",
              "      <td>Snowboard Cross</td>\n",
              "      <td>W</td>\n",
              "      <td>Silver</td>\n",
              "    </tr>\n",
              "  </tbody>\n",
              "</table>\n",
              "</div>\n",
              "      <button class=\"colab-df-convert\" onclick=\"convertToInteractive('df-c14e9f63-0741-4afb-b84b-9c3ed739815c')\"\n",
              "              title=\"Convert this dataframe to an interactive table.\"\n",
              "              style=\"display:none;\">\n",
              "        \n",
              "  <svg xmlns=\"http://www.w3.org/2000/svg\" height=\"24px\"viewBox=\"0 0 24 24\"\n",
              "       width=\"24px\">\n",
              "    <path d=\"M0 0h24v24H0V0z\" fill=\"none\"/>\n",
              "    <path d=\"M18.56 5.44l.94 2.06.94-2.06 2.06-.94-2.06-.94-.94-2.06-.94 2.06-2.06.94zm-11 1L8.5 8.5l.94-2.06 2.06-.94-2.06-.94L8.5 2.5l-.94 2.06-2.06.94zm10 10l.94 2.06.94-2.06 2.06-.94-2.06-.94-.94-2.06-.94 2.06-2.06.94z\"/><path d=\"M17.41 7.96l-1.37-1.37c-.4-.4-.92-.59-1.43-.59-.52 0-1.04.2-1.43.59L10.3 9.45l-7.72 7.72c-.78.78-.78 2.05 0 2.83L4 21.41c.39.39.9.59 1.41.59.51 0 1.02-.2 1.41-.59l7.78-7.78 2.81-2.81c.8-.78.8-2.07 0-2.86zM5.41 20L4 18.59l7.72-7.72 1.47 1.35L5.41 20z\"/>\n",
              "  </svg>\n",
              "      </button>\n",
              "      \n",
              "  <style>\n",
              "    .colab-df-container {\n",
              "      display:flex;\n",
              "      flex-wrap:wrap;\n",
              "      gap: 12px;\n",
              "    }\n",
              "\n",
              "    .colab-df-convert {\n",
              "      background-color: #E8F0FE;\n",
              "      border: none;\n",
              "      border-radius: 50%;\n",
              "      cursor: pointer;\n",
              "      display: none;\n",
              "      fill: #1967D2;\n",
              "      height: 32px;\n",
              "      padding: 0 0 0 0;\n",
              "      width: 32px;\n",
              "    }\n",
              "\n",
              "    .colab-df-convert:hover {\n",
              "      background-color: #E2EBFA;\n",
              "      box-shadow: 0px 1px 2px rgba(60, 64, 67, 0.3), 0px 1px 3px 1px rgba(60, 64, 67, 0.15);\n",
              "      fill: #174EA6;\n",
              "    }\n",
              "\n",
              "    [theme=dark] .colab-df-convert {\n",
              "      background-color: #3B4455;\n",
              "      fill: #D2E3FC;\n",
              "    }\n",
              "\n",
              "    [theme=dark] .colab-df-convert:hover {\n",
              "      background-color: #434B5C;\n",
              "      box-shadow: 0px 1px 3px 1px rgba(0, 0, 0, 0.15);\n",
              "      filter: drop-shadow(0px 1px 2px rgba(0, 0, 0, 0.3));\n",
              "      fill: #FFFFFF;\n",
              "    }\n",
              "  </style>\n",
              "\n",
              "      <script>\n",
              "        const buttonEl =\n",
              "          document.querySelector('#df-c14e9f63-0741-4afb-b84b-9c3ed739815c button.colab-df-convert');\n",
              "        buttonEl.style.display =\n",
              "          google.colab.kernel.accessAllowed ? 'block' : 'none';\n",
              "\n",
              "        async function convertToInteractive(key) {\n",
              "          const element = document.querySelector('#df-c14e9f63-0741-4afb-b84b-9c3ed739815c');\n",
              "          const dataTable =\n",
              "            await google.colab.kernel.invokeFunction('convertToInteractive',\n",
              "                                                     [key], {});\n",
              "          if (!dataTable) return;\n",
              "\n",
              "          const docLinkHtml = 'Like what you see? Visit the ' +\n",
              "            '<a target=\"_blank\" href=https://colab.research.google.com/notebooks/data_table.ipynb>data table notebook</a>'\n",
              "            + ' to learn more about interactive tables.';\n",
              "          element.innerHTML = '';\n",
              "          dataTable['output_type'] = 'display_data';\n",
              "          await google.colab.output.renderOutput(dataTable, element);\n",
              "          const docLink = document.createElement('div');\n",
              "          docLink.innerHTML = docLinkHtml;\n",
              "          element.appendChild(docLink);\n",
              "        }\n",
              "      </script>\n",
              "    </div>\n",
              "  </div>\n",
              "  "
            ]
          },
          "metadata": {},
          "execution_count": 55
        }
      ]
    },
    {
      "cell_type": "code",
      "source": [
        "http://winterolympicsmedals.com/medals.csv"
      ],
      "metadata": {
        "id": "Bn6WryugC3cj"
      },
      "execution_count": null,
      "outputs": []
    },
    {
      "cell_type": "code",
      "source": [
        "from openpyxl import Workbook\n",
        "wb=Workbook()\n",
        "sheet=wb.active\n",
        "sheet['A1']='Nguyen Van A'\n",
        "sheet['B1']= '20104001'\n",
        "sheet['A2']='Le Thi B'\n",
        "sheet['B2']='20104002'\n",
        "wb.save(\"test.xlsx\")"
      ],
      "metadata": {
        "id": "BVa_OeUDk_7c"
      },
      "execution_count": null,
      "outputs": []
    },
    {
      "cell_type": "markdown",
      "source": [
        "# Mục mới"
      ],
      "metadata": {
        "id": "IcEphZ6ypv8s"
      }
    },
    {
      "cell_type": "code",
      "source": [
        "import openpyxl\n",
        "wb=openpyxl.load_workbook(\"test.xlsx\")\n",
        "sheet=wb.active\n",
        "t1=sheet['A1']\n",
        "t2=sheet['B1']\n",
        "t3=sheet.cell(row=3,column=1)\n",
        "t4=sheet.cell(row=4,column=1)\n",
        "print(t1.value, t2.value)\n",
        "print(t3.value, t4.value)\n",
        "\n",
        "\n"
      ],
      "metadata": {
        "colab": {
          "base_uri": "https://localhost:8080/"
        },
        "id": "Cz5xLnI1mMB9",
        "outputId": "6ae2e3ad-74ba-4e63-a257-e6ab0d884748"
      },
      "execution_count": null,
      "outputs": [
        {
          "output_type": "stream",
          "name": "stdout",
          "text": [
            "Nguyen Van A 20104001\n",
            "None None\n"
          ]
        }
      ]
    },
    {
      "cell_type": "code",
      "source": [
        "import openpyxl\n",
        "my_wb = openpyxl.Workbook()\n",
        "my_sheet = my_wb.active\n",
        "c1 = my_sheet.cell(row = 1,column = 1)\n",
        "c1.value = \"Dang Tri Dung\"\n",
        "c2 = my_sheet.cell(row= 1,column= 2)\n",
        "c2.value =\"Trinh Duc Cuong\"\n",
        "c3 = my_sheet ['A2']\n",
        "c3.value = \"Ulsan\"\n",
        "c4 = my_sheet ['B2']\n",
        "c4.value = \"Genovoa\"\n",
        "my_wb.save('phi.xlsx')"
      ],
      "metadata": {
        "id": "kv5qpVeat9Jh"
      },
      "execution_count": null,
      "outputs": []
    },
    {
      "cell_type": "code",
      "source": [
        "import openpyxl\n",
        "my_wb = openpyxl.Workbook()\n",
        "my_sheet = my_wb.active\n",
        "my_wb.create_sheet(index = 1 , title = \"CDconcac\")\n",
        "my_wb.save (\"18+.xlsx\")"
      ],
      "metadata": {
        "id": "oMsePc_bvBwi"
      },
      "execution_count": null,
      "outputs": []
    },
    {
      "cell_type": "code",
      "source": [
        "import matplotlib.pyplot as plt\n",
        "import numpy as np\n",
        "x=np.arange(6)\n",
        "y=x+1\n",
        "plt.plot(x,y,'o--')\n",
        "plt.show()"
      ],
      "metadata": {
        "colab": {
          "base_uri": "https://localhost:8080/",
          "height": 265
        },
        "id": "LTwG5ZTX3_9z",
        "outputId": "d8c225bf-de39-4948-9aeb-e4eb56d78d66"
      },
      "execution_count": null,
      "outputs": [
        {
          "output_type": "display_data",
          "data": {
            "text/plain": [
              "<Figure size 432x288 with 1 Axes>"
            ],
            "image/png": "[encoded data removed]"
          },
          "metadata": {
            "needs_background": "light"
          }
        }
      ]
    },
    {
      "cell_type": "code",
      "source": [
        "plt.plot(x,y,'o--')\n",
        "plt.plot(x,-y,'o-')\n",
        "plt.title('y=x và y=-x')\n",
        "plt.xlabel('x')\n",
        "plt.xlabel('y')\n",
        "plt.show()"
      ],
      "metadata": {
        "colab": {
          "base_uri": "https://localhost:8080/",
          "height": 295
        },
        "id": "ih_M-pig6FL3",
        "outputId": "3a90375c-9dde-405e-902c-fa004854c17b"
      },
      "execution_count": null,
      "outputs": [
        {
          "output_type": "display_data",
          "data": {
            "text/plain": [
              "<Figure size 432x288 with 1 Axes>"
            ],
            "image/png": "[encoded data removed]"
          },
          "metadata": {
            "needs_background": "light"
          }
        }
      ]
    },
    {
      "cell_type": "code",
      "source": [
        "N=16\n",
        "x=np.linspace(0,15,16)\n",
        "y=x\n",
        "plt.plot(x,y,'o--')\n",
        "plt.axis('off')\n",
        "plt.show()"
      ],
      "metadata": {
        "colab": {
          "base_uri": "https://localhost:8080/",
          "height": 248
        },
        "id": "4o86_0gv7DXY",
        "outputId": "2a2b514b-40f9-41ed-9efe-d8daf393259d"
      },
      "execution_count": null,
      "outputs": [
        {
          "output_type": "display_data",
          "data": {
            "text/plain": [
              "<Figure size 432x288 with 1 Axes>"
            ],
            "image/png": "[encoded data removed]"
          },
          "metadata": {
            "needs_background": "light"
          }
        }
      ]
    },
    {
      "cell_type": "code",
      "source": [
        "N=16\n",
        "x=np.linspace(0,15,16)\n",
        "y=np.logspace(0.1,2,16)  #lay logaric cua so\n",
        "plt.plot(x,y,'--o')"
      ],
      "metadata": {
        "colab": {
          "base_uri": "https://localhost:8080/",
          "height": 282
        },
        "id": "IJVH5AlJ7ixt",
        "outputId": "b2ac3e05-70f2-40bd-8c4b-3f3d6857ecde"
      },
      "execution_count": null,
      "outputs": [
        {
          "output_type": "execute_result",
          "data": {
            "text/plain": [
              "[<matplotlib.lines.Line2D at 0x7fafa1be2550>]"
            ]
          },
          "metadata": {},
          "execution_count": 37
        },
        {
          "output_type": "display_data",
          "data": {
            "text/plain": [
              "<Figure size 432x288 with 1 Axes>"
            ],
            "image/png": "[encoded data removed]"
          },
          "metadata": {
            "needs_background": "light"
          }
        }
      ]
    },
    {
      "cell_type": "code",
      "source": [
        "x=[4,5,3,1,6,7]\n",
        "plt.plot(x)\n",
        "plt.show()"
      ],
      "metadata": {
        "colab": {
          "base_uri": "https://localhost:8080/",
          "height": 265
        },
        "id": "x7qAM3xI8Gyg",
        "outputId": "4afc621f-6e98-419d-ac2c-680027f6d6ee"
      },
      "execution_count": null,
      "outputs": [
        {
          "output_type": "display_data",
          "data": {
            "text/plain": [
              "<Figure size 432x288 with 1 Axes>"
            ],
            "image/png": "[encoded data removed]"
          },
          "metadata": {
            "needs_background": "light"
          }
        }
      ]
    },
    {
      "cell_type": "code",
      "source": [
        "x=np.arange(26)\n",
        "plt.plot(x)\n",
        "plt.show()"
      ],
      "metadata": {
        "colab": {
          "base_uri": "https://localhost:8080/",
          "height": 265
        },
        "id": "fUF8Uurj8jF4",
        "outputId": "24d57773-7898-4fbf-b477-c6b41cd6e112"
      },
      "execution_count": null,
      "outputs": [
        {
          "output_type": "display_data",
          "data": {
            "text/plain": [
              "<Figure size 432x288 with 1 Axes>"
            ],
            "image/png": "[encoded data removed]"
          },
          "metadata": {
            "needs_background": "light"
          }
        }
      ]
    },
    {
      "cell_type": "code",
      "source": [
        "x= np.arange(25) #ve dop thi cua x=y^3+1\n",
        "plt.plot(x,x**3+1)\n",
        "plt.show()"
      ],
      "metadata": {
        "colab": {
          "base_uri": "https://localhost:8080/",
          "height": 265
        },
        "id": "cmcvpL4086Q4",
        "outputId": "d6f01cbe-944b-490a-cf58-04cf343587c5"
      },
      "execution_count": null,
      "outputs": [
        {
          "output_type": "display_data",
          "data": {
            "text/plain": [
              "<Figure size 432x288 with 1 Axes>"
            ],
            "image/png": "[encoded data removed]"
          },
          "metadata": {
            "needs_background": "light"
          }
        }
      ]
    },
    {
      "cell_type": "code",
      "source": [
        "x= np.arange(7)\n",
        "plt.plot(x,-x**2)\n",
        "plt.plot(x,-x**3)\n",
        "plt.plot(x,-2*x)\n",
        "plt.plot(x,-2**x)\n",
        "plt.show()"
      ],
      "metadata": {
        "colab": {
          "base_uri": "https://localhost:8080/",
          "height": 265
        },
        "id": "a7CS7cS_9yah",
        "outputId": "63309b8f-8638-4780-db46-0a2b36b12ab4"
      },
      "execution_count": null,
      "outputs": [
        {
          "output_type": "display_data",
          "data": {
            "text/plain": [
              "<Figure size 432x288 with 1 Axes>"
            ],
            "image/png": "[encoded data removed]"
          },
          "metadata": {
            "needs_background": "light"
          }
        }
      ]
    },
    {
      "cell_type": "code",
      "source": [
        "x= np.arange(7)\n",
        "plt.plot(x,-x**2,x,-x**3,x,-2*x,x,-2**x)\n",
        "plt.show()"
      ],
      "metadata": {
        "colab": {
          "base_uri": "https://localhost:8080/",
          "height": 265
        },
        "id": "5TrKXjjh-HxV",
        "outputId": "51501033-f860-4ae4-f786-cd3f617a1f79"
      },
      "execution_count": null,
      "outputs": [
        {
          "output_type": "display_data",
          "data": {
            "text/plain": [
              "<Figure size 432x288 with 1 Axes>"
            ],
            "image/png": "[encoded data removed]"
          },
          "metadata": {
            "needs_background": "light"
          }
        }
      ]
    },
    {
      "cell_type": "code",
      "source": [
        "x= np.arange(7)\n",
        "plt.plot(x,-x**2,'-',x,-x**3,'--',x,-2*x,'-.',x,-2**x,':',)\n",
        "plt.show()"
      ],
      "metadata": {
        "colab": {
          "base_uri": "https://localhost:8080/",
          "height": 265
        },
        "id": "fcj0KUmw_V8h",
        "outputId": "31a2b3db-9307-4e60-b9fc-85705cc107ec"
      },
      "execution_count": null,
      "outputs": [
        {
          "output_type": "display_data",
          "data": {
            "text/plain": [
              "<Figure size 432x288 with 1 Axes>"
            ],
            "image/png": "[encoded data removed]"
          },
          "metadata": {
            "needs_background": "light"
          }
        }
      ]
    },
    {
      "cell_type": "code",
      "source": [
        "x=np.arange(3)\n",
        "plt.subplots_adjust(wspace=0.3,hspace=10)\n",
        "plt.subplot(2,2,1)\n",
        "plt.plot(x,-x**2,color='g')\n",
        "plt.subplot(2,2,2)\n",
        "plt.plot(x,-x**3,color='y')\n",
        "plt.subplot(2,2,3)\n",
        "plt.plot(x,-2*x,color='r')\n",
        "plt.subplot(2,2,4)\n",
        "plt.plot(x,-2**x,'o')\n",
        "plt.show()\n"
      ],
      "metadata": {
        "colab": {
          "base_uri": "https://localhost:8080/",
          "height": 269
        },
        "id": "zY1CNj6NASB2",
        "outputId": "66b9f9f8-4f03-425b-e46a-bf12dd4eb17c"
      },
      "execution_count": null,
      "outputs": [
        {
          "output_type": "display_data",
          "data": {
            "text/plain": [
              "<Figure size 432x288 with 4 Axes>"
            ],
            "image/png": "[encoded data removed]"
          },
          "metadata": {
            "needs_background": "light"
          }
        }
      ]
    },
    {
      "cell_type": "code",
      "source": [
        "plt.axis([0,500,0,500])\n",
        "plt.scatter(60,50,s=1000,color='y',alpha = 1)\n",
        "plt.scatter(80,50,s=1000,color='y',alpha=.100)\n",
        "plt.scatter(100,50,s=1000,color='y',alpha=.1)\n",
        "plt.show()"
      ],
      "metadata": {
        "colab": {
          "base_uri": "https://localhost:8080/",
          "height": 269
        },
        "id": "YXMUqzrrDi07",
        "outputId": "9982302c-f38d-4e86-efb4-2d60b35928a1"
      },
      "execution_count": null,
      "outputs": [
        {
          "output_type": "display_data",
          "data": {
            "text/plain": [
              "<Figure size 432x288 with 1 Axes>"
            ],
            "image/png": "[encoded data removed]"
          },
          "metadata": {
            "needs_background": "light"
          }
        }
      ]
    },
    {
      "cell_type": "code",
      "source": [
        "plt.plot([30,40],[30,40],linewidth=5, color='r')\n",
        "plt.text(35,35,'Buoito')"
      ],
      "metadata": {
        "colab": {
          "base_uri": "https://localhost:8080/",
          "height": 282
        },
        "id": "RBTloIchFlks",
        "outputId": "34508428-7de0-4f26-e3b2-2876c130f46b"
      },
      "execution_count": null,
      "outputs": [
        {
          "output_type": "execute_result",
          "data": {
            "text/plain": [
              "Text(35, 35, 'Buoito')"
            ]
          },
          "metadata": {},
          "execution_count": 73
        },
        {
          "output_type": "display_data",
          "data": {
            "text/plain": [
              "<Figure size 432x288 with 1 Axes>"
            ],
            "image/png": "[encoded data removed]"
          },
          "metadata": {
            "needs_background": "light"
          }
        }
      ]
    },
    {
      "cell_type": "code",
      "source": [
        "plt.arrow(50,70,1,20,head_length=4,head_width=2,color='g')\n"
      ],
      "metadata": {
        "colab": {
          "base_uri": "https://localhost:8080/",
          "height": 286
        },
        "id": "k625Stn6HWBI",
        "outputId": "cfb26569-b710-4164-a270-f6cf80723d95"
      },
      "execution_count": null,
      "outputs": [
        {
          "output_type": "execute_result",
          "data": {
            "text/plain": [
              "<matplotlib.patches.FancyArrow at 0x7fafa191d0d0>"
            ]
          },
          "metadata": {},
          "execution_count": 80
        },
        {
          "output_type": "display_data",
          "data": {
            "text/plain": [
              "<Figure size 432x288 with 1 Axes>"
            ],
            "image/png": "[encoded data removed]"
          },
          "metadata": {
            "needs_background": "light"
          }
        }
      ]
    },
    {
      "cell_type": "markdown",
      "source": [
        "# Mục mới"
      ],
      "metadata": {
        "id": "BZb4b6Ah_06P"
      }
    },
    {
      "cell_type": "code",
      "source": [
        "x=np.arange(4)\n",
        "y=np.random.rand(4)\n",
        "plt.bar(x,y)\n",
        "plt.show()"
      ],
      "metadata": {
        "colab": {
          "base_uri": "https://localhost:8080/",
          "height": 265
        },
        "id": "9bkwi9reJFo8",
        "outputId": "0ce824f9-ca1c-4a08-a728-8d69d115615b"
      },
      "execution_count": null,
      "outputs": [
        {
          "output_type": "display_data",
          "data": {
            "text/plain": [
              "<Figure size 432x288 with 1 Axes>"
            ],
            "image/png": "[encoded data removed]"
          },
          "metadata": {
            "needs_background": "light"
          }
        }
      ]
    },
    {
      "cell_type": "code",
      "source": [
        "y=np.random.rand(3,4)\n",
        "plt.bar(x+0,y[0],color='y',width=0.3)\n",
        "plt.bar(x+0.25,y[1],color='r',width=0.3)\n",
        "plt.bar(x+0.5,y[2],color='b',width=0.3)\n",
        "plt.show()"
      ],
      "metadata": {
        "colab": {
          "base_uri": "https://localhost:8080/",
          "height": 269
        },
        "id": "Uvid3006Jsp4",
        "outputId": "0caa27ce-9668-4e31-f0ff-1d792f841cc2"
      },
      "execution_count": null,
      "outputs": [
        {
          "output_type": "display_data",
          "data": {
            "text/plain": [
              "<Figure size 432x288 with 1 Axes>"
            ],
            "image/png": "[encoded data removed]"
          },
          "metadata": {
            "needs_background": "light"
          }
        }
      ]
    },
    {
      "cell_type": "code",
      "source": [
        "x=np.arange(4)\n",
        "y=np.random.rand(4)\n",
        "plt.barh(x,y)\n",
        "plt.show()"
      ],
      "metadata": {
        "colab": {
          "base_uri": "https://localhost:8080/",
          "height": 265
        },
        "id": "wvhkJJchKf1H",
        "outputId": "ceee08ea-bd9c-4f36-ba6d-6c1f074a0480"
      },
      "execution_count": null,
      "outputs": [
        {
          "output_type": "display_data",
          "data": {
            "text/plain": [
              "<Figure size 432x288 with 1 Axes>"
            ],
            "image/png": "[encoded data removed]"
          },
          "metadata": {
            "needs_background": "light"
          }
        }
      ]
    },
    {
      "cell_type": "code",
      "source": [
        "N=10000\n",
        "x=np.random.rand(N)\n",
        "y=np.random.rand(N)\n",
        "colors=np.random.rand(N)\n",
        "size=200\n",
        "plt.scatter(x,y,s=size,c=colors,alpha=1)\n",
        "plt.show()"
      ],
      "metadata": {
        "colab": {
          "base_uri": "https://localhost:8080/",
          "height": 265
        },
        "id": "b8SHTj7ELjFN",
        "outputId": "9de92311-3b77-4fbd-c2c0-22c9e1287a41"
      },
      "execution_count": null,
      "outputs": [
        {
          "output_type": "display_data",
          "data": {
            "text/plain": [
              "<Figure size 432x288 with 1 Axes>"
            ],
            "image/png": "[encoded data removed]"
          },
          "metadata": {
            "needs_background": "light"
          }
        }
      ]
    }
  ]
}
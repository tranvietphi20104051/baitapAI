{
  "nbformat": 4,
  "nbformat_minor": 0,
  "metadata": {
    "colab": {
      "provenance": [],
      "authorship_tag": "ABX9TyPG7VXyiC1mHB4tDhBjBWdd",
      "include_colab_link": true
    },
    "kernelspec": {
      "name": "python3",
      "display_name": "Python 3"
    },
    "language_info": {
      "name": "python"
    }
  },
  "cells": [
    {
      "cell_type": "markdown",
      "metadata": {
        "id": "view-in-github",
        "colab_type": "text"
      },
      "source": [
        "<a href=\"https://colab.research.google.com/github/tranvietphi20104051/baitapAI/blob/main/Untitled0.ipynb\" target=\"_parent\"><img src=\"https://colab.research.google.com/assets/colab-badge.svg\" alt=\"Open In Colab\"/></a>"
      ]
    },
    {
      "cell_type": "code",
      "execution_count": null,
      "metadata": {
        "colab": {
          "base_uri": "https://localhost:8080/"
        },
        "id": "fFIdWSu9x7kx",
        "outputId": "000e01f0-c0d3-4b0a-a37b-12528c3541c5"
      },
      "outputs": [
        {
          "output_type": "stream",
          "name": "stdout",
          "text": [
            "Do chinh xac 1.0\n",
            "[0 1 0 1]\n"
          ]
        }
      ],
      "source": [
        "import numpy as np\n",
        "from sklearn.linear_model import Perceptron\n",
        "x = [[0,0],[1,0],[0,1],[1,1]]\n",
        "y = [0,1,1,1]\n",
        "model = Perceptron()\n",
        "model.fit(x,y)\n",
        "print('Do chinh xac', model.score(x,y))\n",
        "x_test = [[0.5,0],[0.9,-0.2],[1,-0.5],[0.2,0.7]]\n",
        "y_test = model.predict(x_test)\n",
        "print(y_test)"
      ]
    },
    {
      "cell_type": "code",
      "source": [
        "import numpy as np\n",
        "from sklearn.linear_model import Perceptron\n",
        "x = [[-0.5,-0.5],[-0.5,0.5],[0.3,-0.5],[-0.1,1]]\n",
        "y = [1,1,0,0]\n",
        "model = Perceptron()\n",
        "model.fit(x,y)\n",
        "print('Do chinh xac', model.score(x,y))\n",
        "x_test = [[0.5,0],[0.9,-0.2],[1,-0.5],[0.2,0.7]]\n",
        "y_test = model.predict(x_test)\n",
        "print(y_test)"
      ],
      "metadata": {
        "colab": {
          "base_uri": "https://localhost:8080/"
        },
        "id": "7SBm0s8b1_On",
        "outputId": "3402ab89-f565-4e4a-df2f-aaed262e4f89"
      },
      "execution_count": null,
      "outputs": [
        {
          "output_type": "stream",
          "name": "stdout",
          "text": [
            "Do chinh xac 1.0\n",
            "[0 0 0 0]\n"
          ]
        }
      ]
    },
    {
      "cell_type": "code",
      "source": [
        "import numpy as np\n",
        "from sklearn.linear_model import Perceptron\n",
        "from sklearn.model_selection import train_test_split\n",
        "data = pd.read_csv('crabs.csv')\n",
        "x_train,x_test,y_train,y_test= train_test_split(x,y,test_size=0.3)\n",
        "x_train.shape, x_test.shape, y_train.shape, y_test.shape"
      ],
      "metadata": {
        "id": "Ss16WPKY3yYF"
      },
      "execution_count": null,
      "outputs": []
    },
    {
      "cell_type": "code",
      "source": [
        "import pandas as pd\n",
        "import numpy as np\n",
        "from sklearn.linear_model import Perceptron\n",
        "from sklearn.model_selection import train_test_split\n",
        "\n",
        "crab = 'crabs.csv'\n",
        "crab_data = pd.read_csv(crab)\n",
        "data = (crab_data.drop('speies',axis = 1)).drop('index',axis = 1)\n",
        "\n",
        "data.replace(to_replace ='M',value = 1)\n",
        "data.replace(to_replace ='F',value = 0)\n",
        "\n",
        "x_train = [data['fontallip'], data['rearwidth'], data['length'], data['width'], data['depth']]\n",
        "y_train = data['sex']\n",
        "\n",
        "x = np.reshape(x_train, (200,5))\n",
        "y = np.reshape(y_train,(200))\n",
        "\n",
        "model = Perceptron()\n",
        "\n",
        "model.fit(x,y)\n",
        "\n",
        "print('Do chinh xac',model.score(x,y))\n",
        "\n",
        "x_test = [[17, 9, 10 ,10 , 18]]\n",
        "y_test = model.predict(x_test)\n",
        "print('sex: ',y_test)"
      ],
      "metadata": {
        "colab": {
          "base_uri": "https://localhost:8080/"
        },
        "id": "WyuI5fE7LhTF",
        "outputId": "17759880-e3d0-426a-9ad1-b09dda6505c8"
      },
      "execution_count": null,
      "outputs": [
        {
          "output_type": "stream",
          "name": "stdout",
          "text": [
            "Do chinh xac 0.5\n",
            "sex:  ['M']\n"
          ]
        }
      ]
    },
    {
      "cell_type": "code",
      "source": [
        "import numpy as np\n",
        "from sklearn.linear_model import Perceptron\n",
        "from sklearn.model_selection import train_test_split\n",
        "import pandas as pd\n",
        "\n",
        "url = \"crabs.csv\"\n",
        "data = pd.read_csv(url)\n",
        "x = data.drop(data.columns[[0,1,2]], axis=1)\n",
        "y = data[\"sex\"].replace([\"M\",\"F\"],[1,0])\n",
        "\n",
        "x_train,x_test,y_train,y_test = train_test_split(x,y,test_size = 0.3)\n",
        "\n",
        "model = Perceptron()\n",
        "model.fit(x_train, y_train)\n",
        "print(\"Độ chính xác là: \", model.score(x_train,y_train))\n",
        "\n",
        "x_input = [[8,5.9,17.2,19,7], [7,6.5,15.7,21.9,8.3]]\n",
        "y_out = model.predict(x_input)\n",
        "\n",
        "print(y_out)"
      ],
      "metadata": {
        "colab": {
          "base_uri": "https://localhost:8080/"
        },
        "id": "JPooliM-O_Ah",
        "outputId": "7c21761b-7b72-4a8e-cbfe-93cd64bedf9f"
      },
      "execution_count": null,
      "outputs": [
        {
          "output_type": "stream",
          "name": "stdout",
          "text": [
            "Độ chính xác là:  0.9428571428571428\n",
            "[1 1]\n"
          ]
        },
        {
          "output_type": "stream",
          "name": "stderr",
          "text": [
            "/usr/local/lib/python3.7/dist-packages/sklearn/base.py:451: UserWarning: X does not have valid feature names, but Perceptron was fitted with feature names\n",
            "  \"X does not have valid feature names, but\"\n"
          ]
        }
      ]
    }
  ]
}